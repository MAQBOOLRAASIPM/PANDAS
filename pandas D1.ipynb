{
 "cells": [
  {
   "cell_type": "code",
   "execution_count": 2,
   "id": "27b3c76b-9d45-4bc7-807b-8e050b6ab441",
   "metadata": {},
   "outputs": [
    {
     "name": "stdout",
     "output_type": "stream",
     "text": [
      "0        1\n",
      "1       10\n",
      "2      100\n",
      "3     1000\n",
      "4    10000\n",
      "dtype: int64\n"
     ]
    }
   ],
   "source": [
    "import pandas as pd\n",
    "a=pd.Series([1,10,100,1000,10000])\n",
    "print(a)"
   ]
  },
  {
   "cell_type": "code",
   "execution_count": 3,
   "id": "aba4c291-dacb-4629-a10f-f9b6531e9c53",
   "metadata": {},
   "outputs": [
    {
     "name": "stdout",
     "output_type": "stream",
     "text": [
      "      Name  Age     City\n",
      "0    Alice   24    Delhi\n",
      "1      Bob   30   Mumbai\n",
      "2  Charlie   22  Chennai\n"
     ]
    }
   ],
   "source": [
    "data = {\n",
    "    \"Name\": [\"Alice\", \"Bob\", \"Charlie\"],\n",
    "    \"Age\": [24, 30, 22],\n",
    "    \"City\": [\"Delhi\", \"Mumbai\", \"Chennai\"]\n",
    "}\n",
    "a=pd.DataFrame(data)\n",
    "print(a)"
   ]
  },
  {
   "cell_type": "code",
   "execution_count": 5,
   "id": "b2c86324-082c-4e6a-8553-4cce05225344",
   "metadata": {},
   "outputs": [
    {
     "name": "stdout",
     "output_type": "stream",
     "text": [
      "0    85\n",
      "1    90\n",
      "2    78\n",
      "3    92\n",
      "4    88\n",
      "dtype: int64\n",
      "78\n"
     ]
    }
   ],
   "source": [
    "a=pd.Series([85, 90, 78, 92, 88])\n",
    "print(a)\n",
    "print(a[2])"
   ]
  },
  {
   "cell_type": "code",
   "execution_count": 10,
   "id": "ffad20c9-ee73-4e2a-a764-4088ecc9981a",
   "metadata": {},
   "outputs": [
    {
     "name": "stdout",
     "output_type": "stream",
     "text": [
      "76\n"
     ]
    }
   ],
   "source": [
    "subjects = [\"Math\", \"Science\", \"English\", \"History\", \"Computer\"]\n",
    "scores = [95, 88, 76, 90, 85]\n",
    "a=pd.Series(scores,index=subjects)\n",
    "print(a[\"English\"])"
   ]
  },
  {
   "cell_type": "code",
   "execution_count": 12,
   "id": "d101d9c4-04c0-4cdc-bca6-4f0de2e872d6",
   "metadata": {},
   "outputs": [
    {
     "name": "stdout",
     "output_type": "stream",
     "text": [
      "  Product  Price  Quantity\n",
      "0  Laptop  50000         5\n",
      "1   Phone  20000        10\n",
      "2  Tablet  15000         8\n",
      "0    50000\n",
      "1    20000\n",
      "2    15000\n",
      "Name: Price, dtype: int64\n"
     ]
    }
   ],
   "source": [
    "data = {\n",
    "    \"Product\": [\"Laptop\", \"Phone\", \"Tablet\"],\n",
    "    \"Price\": [50000, 20000, 15000],\n",
    "    \"Quantity\": [5, 10, 8]\n",
    "}\n",
    "a=pd.DataFrame(data)\n",
    "print(a)\n",
    "print(a[\"Price\"])"
   ]
  },
  {
   "cell_type": "code",
   "execution_count": 20,
   "id": "bd4e46db-affa-4d3c-ba03-3a12f1b9f53e",
   "metadata": {},
   "outputs": [
    {
     "name": "stdout",
     "output_type": "stream",
     "text": [
      "    Name  Age  Score\n",
      "0   maqu   20    100\n",
      "1    Hus   21     90\n",
      "2   swal   21     90\n",
      "3  akash   24     90\n",
      "    Name  Score\n",
      "0   maqu    100\n",
      "1    Hus     90\n",
      "2   swal     90\n",
      "3  akash     90\n",
      "<class 'pandas.core.frame.DataFrame'>\n",
      "RangeIndex: 4 entries, 0 to 3\n",
      "Data columns (total 3 columns):\n",
      " #   Column  Non-Null Count  Dtype \n",
      "---  ------  --------------  ----- \n",
      " 0   Name    4 non-null      object\n",
      " 1   Age     4 non-null      int64 \n",
      " 2   Score   4 non-null      int64 \n",
      "dtypes: int64(2), object(1)\n",
      "memory usage: 224.0+ bytes\n"
     ]
    },
    {
     "data": {
      "text/html": [
       "<div>\n",
       "<style scoped>\n",
       "    .dataframe tbody tr th:only-of-type {\n",
       "        vertical-align: middle;\n",
       "    }\n",
       "\n",
       "    .dataframe tbody tr th {\n",
       "        vertical-align: top;\n",
       "    }\n",
       "\n",
       "    .dataframe thead th {\n",
       "        text-align: right;\n",
       "    }\n",
       "</style>\n",
       "<table border=\"1\" class=\"dataframe\">\n",
       "  <thead>\n",
       "    <tr style=\"text-align: right;\">\n",
       "      <th></th>\n",
       "      <th>Name</th>\n",
       "      <th>Age</th>\n",
       "      <th>Score</th>\n",
       "    </tr>\n",
       "  </thead>\n",
       "  <tbody>\n",
       "    <tr>\n",
       "      <th>3</th>\n",
       "      <td>akash</td>\n",
       "      <td>24</td>\n",
       "      <td>90</td>\n",
       "    </tr>\n",
       "  </tbody>\n",
       "</table>\n",
       "</div>"
      ],
      "text/plain": [
       "    Name  Age  Score\n",
       "3  akash   24     90"
      ]
     },
     "execution_count": 20,
     "metadata": {},
     "output_type": "execute_result"
    }
   ],
   "source": [
    "student={\n",
    "    \"Name\":[\"maqu\",\"Hus\",\"swal\",\"akash\"],\n",
    "    \"Age\":[20,21,21,24],\n",
    "    \"Score\":[100,90,90,90]\n",
    "}\n",
    "a=pd.DataFrame(student)\n",
    "print(a)\n",
    "print(a[[\"Name\",\"Score\"]])\n",
    "a.info()\n",
    "a.describe()\n",
    "a.tail(1)\n"
   ]
  },
  {
   "cell_type": "code",
   "execution_count": 49,
   "id": "f8534c85-1f85-44e9-a9e0-8d1dd32b023a",
   "metadata": {},
   "outputs": [
    {
     "name": "stdout",
     "output_type": "stream",
     "text": [
      "0    100\n",
      "1    200\n",
      "2    300\n",
      "3    400\n",
      "4    500\n",
      "dtype: int64\n",
      "400\n",
      "(5,)\n"
     ]
    }
   ],
   "source": [
    "a=pd.Series([100, 200, 300, 400, 500])\n",
    "print(a)\n",
    "print(a[3])\n",
    "print(a.shape)\n"
   ]
  },
  {
   "cell_type": "code",
   "execution_count": 46,
   "id": "dca26a5b-a5c9-423c-948c-e333d97543e1",
   "metadata": {},
   "outputs": [
    {
     "name": "stdout",
     "output_type": "stream",
     "text": [
      "0         Delhi\n",
      "1    Washington\n",
      "2        London\n",
      "3         Tokyo\n",
      "Name: Capital, dtype: object\n"
     ]
    }
   ],
   "source": [
    "data = {\n",
    "    \"Country\": [\"India\", \"USA\", \"UK\", \"Japan\"],\n",
    "    \"Capital\": [\"Delhi\", \"Washington\", \"London\", \"Tokyo\"],\n",
    "    \"Population\": [1400, 331, 67, 125]\n",
    "}\n",
    "a=pd.DataFrame(data)\n",
    "print(a[\"Capital\"])"
   ]
  },
  {
   "cell_type": "code",
   "execution_count": 50,
   "id": "566f12a5-a7a6-42ad-860c-56a5f4526bd0",
   "metadata": {},
   "outputs": [
    {
     "name": "stdout",
     "output_type": "stream",
     "text": [
      "   A   B   C   D\n",
      "0  1   2   3   4\n",
      "1  5   6   7   8\n",
      "2  9  10  11  12\n",
      "Index(['A', 'B', 'C', 'D'], dtype='object')\n",
      "(3, 4)\n"
     ]
    }
   ],
   "source": [
    "import numpy as np\n",
    "import pandas as pd\n",
    "a=np.arange(1,13).reshape(3,4)\n",
    "b=pd.DataFrame(a,columns=[\"A\", \"B\", \"C\", \"D\"])\n",
    "print(b)\n",
    "print(b.columns)\n",
    "print(b.shape)"
   ]
  },
  {
   "cell_type": "code",
   "execution_count": 38,
   "id": "710da50d-c478-499a-b803-7581418715af",
   "metadata": {},
   "outputs": [
    {
     "name": "stdout",
     "output_type": "stream",
     "text": [
      "Original DataFrame:\n",
      "      Name  Marks Grade\n",
      "0    Alice     85     B\n",
      "1      Bob     92     A\n",
      "2  Charlie     78     C\n",
      "3    David     88     B\n",
      "\n",
      "DataFrame read from CSV:\n",
      "      Name  Marks Grade\n",
      "0    Alice     85     B\n",
      "1      Bob     92     A\n",
      "2  Charlie     78     C\n",
      "3    David     88     B\n"
     ]
    }
   ],
   "source": [
    "import pandas as pd\n",
    "\n",
    "# Step 1: Create DataFrame\n",
    "data = {\n",
    "    \"Name\": [\"Alice\", \"Bob\", \"Charlie\", \"David\"],\n",
    "    \"Marks\": [85, 92, 78, 88],\n",
    "    \"Grade\": [\"B\", \"A\", \"C\", \"B\"]\n",
    "}\n",
    "\n",
    "df = pd.DataFrame(data)\n",
    "print(\"Original DataFrame:\")\n",
    "print(df)\n",
    "\n",
    "# Step 2: Save DataFrame to CSV file\n",
    "df.to_csv(\"students.csv\", index=False)   # index=False → don’t save row numbers\n",
    "\n",
    "# Step 3: Read DataFrame back from CSV\n",
    "df2 = pd.read_csv(\"students.csv\")\n",
    "print(\"\\nDataFrame read from CSV:\")\n",
    "print(df2)\n"
   ]
  },
  {
   "cell_type": "code",
   "execution_count": 51,
   "id": "7f0a8b3f-e0b9-4aec-b89d-db186405281d",
   "metadata": {},
   "outputs": [
    {
     "name": "stdout",
     "output_type": "stream",
     "text": [
      "0     1\n",
      "1     2\n",
      "2     3\n",
      "3     4\n",
      "4     5\n",
      "5     6\n",
      "6     7\n",
      "7     8\n",
      "8     9\n",
      "9    10\n",
      "dtype: int64\n"
     ]
    }
   ],
   "source": [
    "a=pd.Series([1,2,3,4,5,6,7,8,9,10])\n",
    "print(a)"
   ]
  },
  {
   "cell_type": "code",
   "execution_count": 52,
   "id": "edcaeb7f-e5a3-46a2-97c7-b55fb0b4d00f",
   "metadata": {},
   "outputs": [
    {
     "data": {
      "text/html": [
       "<div>\n",
       "<style scoped>\n",
       "    .dataframe tbody tr th:only-of-type {\n",
       "        vertical-align: middle;\n",
       "    }\n",
       "\n",
       "    .dataframe tbody tr th {\n",
       "        vertical-align: top;\n",
       "    }\n",
       "\n",
       "    .dataframe thead th {\n",
       "        text-align: right;\n",
       "    }\n",
       "</style>\n",
       "<table border=\"1\" class=\"dataframe\">\n",
       "  <thead>\n",
       "    <tr style=\"text-align: right;\">\n",
       "      <th></th>\n",
       "      <th>Name</th>\n",
       "      <th>age</th>\n",
       "    </tr>\n",
       "  </thead>\n",
       "  <tbody>\n",
       "    <tr>\n",
       "      <th>0</th>\n",
       "      <td>maqu</td>\n",
       "      <td>10</td>\n",
       "    </tr>\n",
       "    <tr>\n",
       "      <th>1</th>\n",
       "      <td>rasi</td>\n",
       "      <td>20</td>\n",
       "    </tr>\n",
       "  </tbody>\n",
       "</table>\n",
       "</div>"
      ],
      "text/plain": [
       "   Name  age\n",
       "0  maqu   10\n",
       "1  rasi   20"
      ]
     },
     "execution_count": 52,
     "metadata": {},
     "output_type": "execute_result"
    }
   ],
   "source": [
    "df1={\n",
    "    \"Name\":[\"maqu\",\"rasi\"],\n",
    "    \"age\":[10,20]\n",
    "}\n",
    "a=pd.DataFrame(df1)\n",
    "a"
   ]
  },
  {
   "cell_type": "code",
   "execution_count": 53,
   "id": "ae12435f-5617-483e-8bc5-3752b5670c53",
   "metadata": {},
   "outputs": [
    {
     "data": {
      "text/html": [
       "<div>\n",
       "<style scoped>\n",
       "    .dataframe tbody tr th:only-of-type {\n",
       "        vertical-align: middle;\n",
       "    }\n",
       "\n",
       "    .dataframe tbody tr th {\n",
       "        vertical-align: top;\n",
       "    }\n",
       "\n",
       "    .dataframe thead th {\n",
       "        text-align: right;\n",
       "    }\n",
       "</style>\n",
       "<table border=\"1\" class=\"dataframe\">\n",
       "  <thead>\n",
       "    <tr style=\"text-align: right;\">\n",
       "      <th></th>\n",
       "      <th>col1</th>\n",
       "      <th>col2</th>\n",
       "    </tr>\n",
       "  </thead>\n",
       "  <tbody>\n",
       "    <tr>\n",
       "      <th>0</th>\n",
       "      <td>maqu</td>\n",
       "      <td>10</td>\n",
       "    </tr>\n",
       "    <tr>\n",
       "      <th>1</th>\n",
       "      <td>rasi</td>\n",
       "      <td>20</td>\n",
       "    </tr>\n",
       "  </tbody>\n",
       "</table>\n",
       "</div>"
      ],
      "text/plain": [
       "   col1  col2\n",
       "0  maqu    10\n",
       "1  rasi    20"
      ]
     },
     "execution_count": 53,
     "metadata": {},
     "output_type": "execute_result"
    }
   ],
   "source": [
    "df1={\n",
    "    \"Name\":[\"maqu\",\"rasi\"],\n",
    "    \"age\":[10,20]\n",
    "}\n",
    "a=pd.DataFrame(df1)\n",
    "a=a.rename(columns={\"Name\":\"col1\",\"age\":\"col2\"})\n",
    "a"
   ]
  },
  {
   "cell_type": "code",
   "execution_count": null,
   "id": "5ca1b6ac-0a93-4216-b83b-3a6182d7c06d",
   "metadata": {},
   "outputs": [],
   "source": [
    "a=pd.Series([1,2,3,4,5,6])\n"
   ]
  }
 ],
 "metadata": {
  "kernelspec": {
   "display_name": "Python 3 (ipykernel)",
   "language": "python",
   "name": "python3"
  },
  "language_info": {
   "codemirror_mode": {
    "name": "ipython",
    "version": 3
   },
   "file_extension": ".py",
   "mimetype": "text/x-python",
   "name": "python",
   "nbconvert_exporter": "python",
   "pygments_lexer": "ipython3",
   "version": "3.10.18"
  }
 },
 "nbformat": 4,
 "nbformat_minor": 5
}
