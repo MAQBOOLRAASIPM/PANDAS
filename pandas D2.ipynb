{
 "cells": [
  {
   "cell_type": "code",
   "execution_count": 3,
   "id": "9b3fc570-8d2e-4e01-bb64-2dc3fbfdde11",
   "metadata": {},
   "outputs": [
    {
     "name": "stdout",
     "output_type": "stream",
     "text": [
      "    Name  Age  Marks\n",
      "0  Alice   25     85\n",
      "1    Bob   30     92\n"
     ]
    }
   ],
   "source": [
    "import pandas as pd\n",
    "\n",
    "data = {\n",
    "    \"Name\": [\"Alice\", \"Bob\", \"Charlie\", \"David\", \"Eva\"],\n",
    "    \"Age\": [25, 30, 22, 28, 35],\n",
    "    \"Marks\": [85, 92, 78, 88, 95]\n",
    "}\n",
    "\n",
    "df = pd.DataFrame(data)\n",
    "print(df.head(2))\n"
   ]
  },
  {
   "cell_type": "code",
   "execution_count": 4,
   "id": "40cc9a17-2586-4daf-ae5d-540d5038fd4e",
   "metadata": {},
   "outputs": [
    {
     "name": "stdout",
     "output_type": "stream",
     "text": [
      "      Name  Age  Marks\n",
      "2  Charlie   22     78\n",
      "3    David   28     88\n",
      "4      Eva   35     95\n"
     ]
    }
   ],
   "source": [
    "print(df.tail(3))"
   ]
  },
  {
   "cell_type": "code",
   "execution_count": 5,
   "id": "33267f0f-6840-4d98-9ff2-141c586e1bc3",
   "metadata": {},
   "outputs": [
    {
     "name": "stdout",
     "output_type": "stream",
     "text": [
      "<class 'pandas.core.frame.DataFrame'>\n",
      "RangeIndex: 5 entries, 0 to 4\n",
      "Data columns (total 3 columns):\n",
      " #   Column  Non-Null Count  Dtype \n",
      "---  ------  --------------  ----- \n",
      " 0   Name    5 non-null      object\n",
      " 1   Age     5 non-null      int64 \n",
      " 2   Marks   5 non-null      int64 \n",
      "dtypes: int64(2), object(1)\n",
      "memory usage: 248.0+ bytes\n",
      "None\n"
     ]
    }
   ],
   "source": [
    "print(df.info())"
   ]
  },
  {
   "cell_type": "code",
   "execution_count": 6,
   "id": "2eef10a8-8ea3-47a3-a182-34c4ad9a3d04",
   "metadata": {},
   "outputs": [
    {
     "name": "stdout",
     "output_type": "stream",
     "text": [
      "             Age      Marks\n",
      "count   5.000000   5.000000\n",
      "mean   28.000000  87.600000\n",
      "std     4.949747   6.580274\n",
      "min    22.000000  78.000000\n",
      "25%    25.000000  85.000000\n",
      "50%    28.000000  88.000000\n",
      "75%    30.000000  92.000000\n",
      "max    35.000000  95.000000\n"
     ]
    }
   ],
   "source": [
    "print(df.describe())"
   ]
  },
  {
   "cell_type": "code",
   "execution_count": 13,
   "id": "82d4a317-c8ce-41d8-bf95-c51ffb5db2b5",
   "metadata": {},
   "outputs": [
    {
     "name": "stdout",
     "output_type": "stream",
     "text": [
      "15\n",
      "(5, 3)\n",
      "Index(['Name', 'Age', 'Marks'], dtype='object')\n"
     ]
    }
   ],
   "source": [
    "print(df.size)\n",
    "print(df.shape)\n",
    "print(df.columns)"
   ]
  },
  {
   "cell_type": "code",
   "execution_count": 16,
   "id": "2ff30353-d2aa-47ef-93f0-2da83c81879e",
   "metadata": {},
   "outputs": [
    {
     "name": "stdout",
     "output_type": "stream",
     "text": [
      "  Employee Department  Salary  Experience\n",
      "0     John         HR   50000           2\n",
      "1     Anna         IT   60000           5\n",
      "2      Sam    Finance   55000           3\n",
      "3    Diana         IT   65000           7\n",
      "  Employee Department  Salary  Experience\n",
      "4     Mike         HR   48000           1\n",
      "5     Sara    Finance   70000           6\n"
     ]
    }
   ],
   "source": [
    "data = {\n",
    "    \"Employee\": [\"John\", \"Anna\", \"Sam\", \"Diana\", \"Mike\", \"Sara\"],\n",
    "    \"Department\": [\"HR\", \"IT\", \"Finance\", \"IT\", \"HR\", \"Finance\"],\n",
    "    \"Salary\": [50000, 60000, 55000, 65000, 48000, 70000],\n",
    "    \"Experience\": [2, 5, 3, 7, 1, 6]\n",
    "}\n",
    "df=pd.DataFrame(data)\n",
    "print(df.head(4))\n",
    "print(df.tail(2))\n"
   ]
  },
  {
   "cell_type": "code",
   "execution_count": 18,
   "id": "8f328b1f-3b16-4708-981a-4ccf6451b2ec",
   "metadata": {},
   "outputs": [
    {
     "name": "stdout",
     "output_type": "stream",
     "text": [
      "<class 'pandas.core.frame.DataFrame'>\n",
      "RangeIndex: 6 entries, 0 to 5\n",
      "Data columns (total 4 columns):\n",
      " #   Column      Non-Null Count  Dtype \n",
      "---  ------      --------------  ----- \n",
      " 0   Employee    6 non-null      object\n",
      " 1   Department  6 non-null      object\n",
      " 2   Salary      6 non-null      int64 \n",
      " 3   Experience  6 non-null      int64 \n",
      "dtypes: int64(2), object(2)\n",
      "memory usage: 320.0+ bytes\n",
      "None\n",
      "             Salary  Experience\n",
      "count      6.000000    6.000000\n",
      "mean   58000.000000    4.000000\n",
      "std     8602.325267    2.366432\n",
      "min    48000.000000    1.000000\n",
      "25%    51250.000000    2.250000\n",
      "50%    57500.000000    4.000000\n",
      "75%    63750.000000    5.750000\n",
      "max    70000.000000    7.000000\n"
     ]
    }
   ],
   "source": [
    "print(df.info())\n",
    "print(df.describe())"
   ]
  },
  {
   "cell_type": "code",
   "execution_count": 21,
   "id": "7818792b-8233-47f0-a358-065e376e4926",
   "metadata": {},
   "outputs": [
    {
     "name": "stdout",
     "output_type": "stream",
     "text": [
      "(6, 4)\n",
      "24\n",
      "Index(['Employee', 'Department', 'Salary', 'Experience'], dtype='object')\n"
     ]
    }
   ],
   "source": [
    "print(df.shape)                                        \n",
    "print(df.size)\n",
    "print(df.columns)"
   ]
  },
  {
   "cell_type": "code",
   "execution_count": 29,
   "id": "52e96042-b214-411c-8cab-26f24c7c459c",
   "metadata": {},
   "outputs": [
    {
     "name": "stdout",
     "output_type": "stream",
     "text": [
      "      Name  Age  Marks\n",
      "0     Maqu   14    100\n",
      "1  Rishika   21     80\n",
      "2   Irfana   60     90\n",
      "3  Maqbool   20     70\n",
      "4    Raasi   20     60\n",
      "             Age       Marks\n",
      "count   7.000000    7.000000\n",
      "mean   21.857143   85.714286\n",
      "std    17.591935   16.183472\n",
      "min     8.000000   60.000000\n",
      "25%    12.000000   75.000000\n",
      "50%    20.000000   90.000000\n",
      "75%    20.500000  100.000000\n",
      "max    60.000000  100.000000\n",
      "85.71428571428571\n"
     ]
    }
   ],
   "source": [
    "studs={\n",
    "    \"Name\":[\"Maqu\",\"Rishika\",\"Irfana\",\"Maqbool\",\"Raasi\",\"Maaqshiki\",\"Ponnu\"],\n",
    "    \"Age\":[14,21,60,20,20,10,8],\n",
    "    \"Marks\":[100,80,90,70,60,100,100]\n",
    "}\n",
    "df=pd.DataFrame(studs)\n",
    "print(df.head(5))\n",
    "print(df.describe())\n",
    "print(df[\"Marks\"].mean())"
   ]
  },
  {
   "cell_type": "code",
   "execution_count": 31,
   "id": "0d023fff-0eb5-49ec-a0e2-f930b6c93d2a",
   "metadata": {},
   "outputs": [
    {
     "name": "stdout",
     "output_type": "stream",
     "text": [
      "0      Alice\n",
      "1        Bob\n",
      "2    Charlie\n",
      "3      David\n",
      "Name: Name, dtype: object\n",
      "      Name  Marks\n",
      "0    Alice     85\n",
      "1      Bob     92\n",
      "2  Charlie     78\n",
      "3    David     88\n"
     ]
    }
   ],
   "source": [
    "data = {\n",
    "    \"Name\": [\"Alice\", \"Bob\", \"Charlie\", \"David\"],\n",
    "    \"Age\": [25, 30, 22, 28],\n",
    "    \"Marks\": [85, 92, 78, 88]\n",
    "}\n",
    "\n",
    "df = pd.DataFrame(data)\n",
    "print(df[\"Name\"])\n",
    "print(df[[\"Name\",\"Marks\"]])"
   ]
  },
  {
   "cell_type": "code",
   "execution_count": 35,
   "id": "9fb810fc-af22-4d06-8c7f-930721c082bf",
   "metadata": {},
   "outputs": [
    {
     "name": "stdout",
     "output_type": "stream",
     "text": [
      "Name     Alice\n",
      "Age         25\n",
      "Marks       85\n",
      "Name: 0, dtype: object\n",
      "    Name  Age  Marks\n",
      "0  Alice   25     85\n",
      "1    Bob   30     92\n",
      "30\n"
     ]
    }
   ],
   "source": [
    "print(df.iloc[0])\n",
    "print(df.iloc[0:2])\n",
    "print(df.iloc[1,1])"
   ]
  },
  {
   "cell_type": "code",
   "execution_count": 38,
   "id": "97fe2a2c-465f-4aaa-b4c4-1aba88ecb526",
   "metadata": {},
   "outputs": [
    {
     "name": "stdout",
     "output_type": "stream",
     "text": [
      "Name     Charlie\n",
      "Age           22\n",
      "Marks         78\n",
      "Name: 2, dtype: object\n",
      "Bob\n",
      "      Name  Marks\n",
      "0    Alice     85\n",
      "1      Bob     92\n",
      "2  Charlie     78\n"
     ]
    }
   ],
   "source": [
    "print(df.loc[2])\n",
    "print(df.loc[1,\"Name\"])\n",
    "print(df.loc[0:2,[\"Name\",\"Marks\"]])"
   ]
  },
  {
   "cell_type": "code",
   "execution_count": 45,
   "id": "dd6cbef9-8d5e-491c-8349-dafef5c244ef",
   "metadata": {},
   "outputs": [
    {
     "name": "stdout",
     "output_type": "stream",
     "text": [
      "      Name  Age  Marks\n",
      "1      Bob   30     92\n",
      "2  Charlie   22     78\n",
      "      Name  Age\n",
      "1      Bob   30\n",
      "2  Charlie   22\n",
      "3    David   28\n"
     ]
    }
   ],
   "source": [
    "print(df[1:3])\n",
    "print(df.loc[1:3,\"Name\":\"Age\"])"
   ]
  },
  {
   "cell_type": "code",
   "execution_count": 48,
   "id": "15f7e275-40b6-47ae-8beb-160d67c75943",
   "metadata": {},
   "outputs": [
    {
     "name": "stdout",
     "output_type": "stream",
     "text": [
      "    Name  Age  Marks\n",
      "1    Bob   30     92\n",
      "3  David   28     88\n",
      "  Name  Age  Marks\n",
      "1  Bob   30     92\n"
     ]
    }
   ],
   "source": [
    "print(df[df[\"Marks\"]>85])\n",
    "print(df[(df[\"Age\"]>25)&(df[\"Marks\"]>90)])"
   ]
  },
  {
   "cell_type": "code",
   "execution_count": null,
   "id": "fce49747-2c65-4577-86e7-4621c355ca69",
   "metadata": {},
   "outputs": [],
   "source": [
    "a={\n",
    "    \"Name\":[\"Maq\",\"Bool\",\"Raasi\",\"Maqu\",\"Boolee\",\"Raz\",\"Maqool\",\"Maqbool\",\"Rasi\",\"Maqbool Raasi\"],\n",
    "    \"Age\":[20,25,24,36,38,40,45,24,21,33],\n",
    "    \"Salary\":[30000,40000,60000,450000,34000,90000,]\n",
    "}"
   ]
  }
 ],
 "metadata": {
  "kernelspec": {
   "display_name": "Python 3 (ipykernel)",
   "language": "python",
   "name": "python3"
  },
  "language_info": {
   "codemirror_mode": {
    "name": "ipython",
    "version": 3
   },
   "file_extension": ".py",
   "mimetype": "text/x-python",
   "name": "python",
   "nbconvert_exporter": "python",
   "pygments_lexer": "ipython3",
   "version": "3.10.18"
  }
 },
 "nbformat": 4,
 "nbformat_minor": 5
}
