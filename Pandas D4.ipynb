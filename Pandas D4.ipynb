{
 "cells": [
  {
   "cell_type": "markdown",
   "id": "7d31a399-25f8-4694-8743-afd4d4c56e98",
   "metadata": {},
   "source": [
    "# Part 2"
   ]
  },
  {
   "cell_type": "code",
   "execution_count": 4,
   "id": "298e7516-00bb-4137-830f-04b82bd58d02",
   "metadata": {},
   "outputs": [
    {
     "name": "stdout",
     "output_type": "stream",
     "text": [
      "0    John\n",
      "1    Sara\n",
      "2     Ali\n",
      "3    Maya\n",
      "Name: Name, dtype: object\n"
     ]
    }
   ],
   "source": [
    "import pandas as pd\n",
    "\n",
    "data = {\n",
    "    \"Name\": [\"John\", \"Sara\", \"Ali\", \"Maya\"],\n",
    "    \"Age\": [16, 17, 15, 16],\n",
    "    \"Marks\": [45, 67, 89, 72]\n",
    "}\n",
    "df = pd.DataFrame(data)\n",
    "#selecting single col\n",
    "print(df[\"Name\"])"
   ]
  },
  {
   "cell_type": "code",
   "execution_count": 2,
   "id": "0c6afbab-5ebd-40ef-a4e4-5b30650e43b7",
   "metadata": {},
   "outputs": [
    {
     "name": "stdout",
     "output_type": "stream",
     "text": [
      "   Name  Marks\n",
      "0  John     45\n",
      "1  Sara     67\n",
      "2   Ali     89\n",
      "3  Maya     72\n"
     ]
    }
   ],
   "source": [
    "#selecting multi col\n",
    "print(df[[\"Name\",\"Marks\"]])"
   ]
  },
  {
   "cell_type": "code",
   "execution_count": 3,
   "id": "e3859421-acbf-4d7e-932c-54ab9dfa30c1",
   "metadata": {},
   "outputs": [
    {
     "name": "stdout",
     "output_type": "stream",
     "text": [
      "Name     John\n",
      "Age        16\n",
      "Marks      45\n",
      "Name: 0, dtype: object\n"
     ]
    }
   ],
   "source": [
    "# first row\n",
    "print(df.iloc[0])\n"
   ]
  },
  {
   "cell_type": "code",
   "execution_count": 7,
   "id": "cd958866-2c26-4a2c-ae30-f9e833c739e2",
   "metadata": {},
   "outputs": [
    {
     "name": "stdout",
     "output_type": "stream",
     "text": [
      "   Name  Age  Marks\n",
      "0  John   16     45\n",
      "1  Sara   17     67\n",
      "3  Maya   16     72\n"
     ]
    }
   ],
   "source": [
    "# rows where Age > 16\n",
    "print(df[df[\"Age\"] > 15])"
   ]
  },
  {
   "cell_type": "code",
   "execution_count": 8,
   "id": "bf5b7710-8ecc-4860-a5b7-985ea0ad29ce",
   "metadata": {},
   "outputs": [
    {
     "name": "stdout",
     "output_type": "stream",
     "text": [
      "Sara\n"
     ]
    }
   ],
   "source": [
    "print(df.loc[1, \"Name\"])"
   ]
  },
  {
   "cell_type": "code",
   "execution_count": 9,
   "id": "5ef803b3-354b-4c4e-a6b1-10302c84f671",
   "metadata": {},
   "outputs": [
    {
     "name": "stdout",
     "output_type": "stream",
     "text": [
      "   Name  Age  Marks   Pass\n",
      "0  John   16     45  False\n",
      "1  Sara   17     67   True\n",
      "2   Ali   15     89   True\n",
      "3  Maya   16     72   True\n"
     ]
    }
   ],
   "source": [
    "df[\"Pass\"] = df[\"Marks\"] >= 50\n",
    "print(df)"
   ]
  },
  {
   "cell_type": "code",
   "execution_count": 10,
   "id": "917d140a-d639-4222-86ca-bdf60c6a41e9",
   "metadata": {},
   "outputs": [
    {
     "name": "stdout",
     "output_type": "stream",
     "text": [
      "   Name  Age  Marks\n",
      "0  John   16     45\n",
      "1  Sara   17     67\n",
      "2   Ali   15     89\n",
      "3  Maya   16     72\n"
     ]
    }
   ],
   "source": [
    "df = df.drop(\"Pass\", axis=1)\n",
    "print(df)"
   ]
  },
  {
   "cell_type": "code",
   "execution_count": 13,
   "id": "3d0780b0-8c48-4208-aa52-ebd88cbc794b",
   "metadata": {},
   "outputs": [
    {
     "name": "stdout",
     "output_type": "stream",
     "text": [
      "   Name  Age  Marks\n",
      "2   Ali   15     89\n",
      "3  Maya   16     72\n",
      "1  Sara   17     67\n",
      "0  John   16     45\n"
     ]
    }
   ],
   "source": [
    "print(df.sort_values(\"Marks\", ascending=False))"
   ]
  },
  {
   "cell_type": "code",
   "execution_count": 15,
   "id": "2485be29-b791-4068-b1e8-226e7abaad04",
   "metadata": {},
   "outputs": [
    {
     "name": "stdout",
     "output_type": "stream",
     "text": [
      "   Name  Age\n",
      "0  John   16\n",
      "1  Sara   17\n",
      "2   Ali   15\n",
      "3  Maya   16\n"
     ]
    }
   ],
   "source": [
    "print(df[[\"Name\",\"Age\"]])"
   ]
  },
  {
   "cell_type": "code",
   "execution_count": 16,
   "id": "9b7351e4-b605-4f75-b34b-2269ba6d26c3",
   "metadata": {},
   "outputs": [
    {
     "name": "stdout",
     "output_type": "stream",
     "text": [
      "   Name  Age  Marks\n",
      "1  Sara   17     67\n",
      "2   Ali   15     89\n",
      "3  Maya   16     72\n"
     ]
    }
   ],
   "source": [
    "print(df[df[\"Marks\"]>60])"
   ]
  },
  {
   "cell_type": "code",
   "execution_count": 4,
   "id": "8bc99c17-dd61-46ea-97c5-f1dd1487c02d",
   "metadata": {},
   "outputs": [
    {
     "name": "stdout",
     "output_type": "stream",
     "text": [
      "Index(['Name', 'Age', 'Marks'], dtype='object')\n"
     ]
    }
   ],
   "source": [
    "print(df.columns)"
   ]
  },
  {
   "cell_type": "code",
   "execution_count": 6,
   "id": "bf41eba5-b6da-4fd1-8dcc-895843b9112d",
   "metadata": {},
   "outputs": [
    {
     "name": "stdout",
     "output_type": "stream",
     "text": [
      "   Name  Age  Marks Grade\n",
      "0  John   16     45     C\n",
      "1  Sara   17     67     B\n",
      "2   Ali   15     89     A\n",
      "3  Maya   16     72     B\n"
     ]
    }
   ],
   "source": [
    "def grades(marks):\n",
    "    if marks >= 80:\n",
    "        return \"A\"\n",
    "    elif marks >= 60:\n",
    "        return \"B\"\n",
    "    else:\n",
    "        return \"C\"\n",
    "\n",
    "df[\"Grade\"] = df[\"Marks\"].apply(grades)\n",
    "print(df)"
   ]
  },
  {
   "cell_type": "code",
   "execution_count": 58,
   "id": "b009db03-1832-43ef-b0e8-e70f217ba6bc",
   "metadata": {},
   "outputs": [
    {
     "name": "stdout",
     "output_type": "stream",
     "text": [
      "   Name   Age  Marks\n",
      "0  John  16.0   45.0\n",
      "1  Sara   NaN   67.0\n",
      "2   Ali  15.0    NaN\n",
      "3  Maya  16.0   72.0\n",
      "    Name    Age  Marks\n",
      "0  False  False  False\n",
      "1  False   True  False\n",
      "2  False  False   True\n",
      "3  False  False  False\n",
      "Name     0\n",
      "Age      1\n",
      "Marks    1\n",
      "dtype: int64\n"
     ]
    }
   ],
   "source": [
    "import pandas as pd\n",
    "import numpy as np\n",
    "\n",
    "data = {\n",
    "    \"Name\": [\"John\", \"Sara\", \"Ali\", \"Maya\"],\n",
    "    \"Age\": [16, np.nan, 15, 16],\n",
    "    \"Marks\": [45, 67, None, 72]\n",
    "}\n",
    "df = pd.DataFrame(data)\n",
    "\n",
    "print(df)\n",
    "print(df.isna())\n",
    "print(df.isna().sum())"
   ]
  },
  {
   "cell_type": "code",
   "execution_count": 60,
   "id": "2516aec9-b17b-4d8d-809f-b90c7fd41456",
   "metadata": {},
   "outputs": [
    {
     "name": "stdout",
     "output_type": "stream",
     "text": [
      "   Name        Age  Marks\n",
      "0  John  16.000000   45.0\n",
      "1  Sara  15.666667   67.0\n",
      "2   Ali  15.000000    0.0\n",
      "3  Maya  16.000000   72.0\n"
     ]
    },
    {
     "name": "stderr",
     "output_type": "stream",
     "text": [
      "C:\\Users\\MAQBOOL RAASI\\AppData\\Local\\Temp\\ipykernel_1488\\3811707331.py:2: FutureWarning: A value is trying to be set on a copy of a DataFrame or Series through chained assignment using an inplace method.\n",
      "The behavior will change in pandas 3.0. This inplace method will never work because the intermediate object on which we are setting values always behaves as a copy.\n",
      "\n",
      "For example, when doing 'df[col].method(value, inplace=True)', try using 'df.method({col: value}, inplace=True)' or df[col] = df[col].method(value) instead, to perform the operation inplace on the original object.\n",
      "\n",
      "\n",
      "  df[\"Marks\"].fillna(0,inplace=True)\n"
     ]
    }
   ],
   "source": [
    "df[\"Age\"].fillna(df[\"Age\"].mean())\n",
    "df[\"Marks\"].fillna(0,inplace=True)\n",
    "print(df)"
   ]
  },
  {
   "cell_type": "code",
   "execution_count": 15,
   "id": "300b2563-97fd-4545-8237-2ed1297c937b",
   "metadata": {},
   "outputs": [
    {
     "name": "stdout",
     "output_type": "stream",
     "text": [
      "   0\n",
      "0  1\n",
      "1  2\n",
      "2  3\n",
      "3  4\n",
      "4  5\n",
      "5  6\n",
      "6  7\n",
      "7  8\n",
      "8  9\n"
     ]
    }
   ],
   "source": [
    "arr=np.arange(1,10)\n",
    "b=pd.DataFrame(arr)\n",
    "print(b)"
   ]
  },
  {
   "cell_type": "code",
   "execution_count": 19,
   "id": "134091a9-8a1c-488c-9908-36536dff31dd",
   "metadata": {},
   "outputs": [],
   "source": [
    "df=df.rename(columns={\"Age\":\"students_age\"})"
   ]
  },
  {
   "cell_type": "code",
   "execution_count": 25,
   "id": "48f45acf-5331-45b6-9012-7bce6457cb9c",
   "metadata": {},
   "outputs": [
    {
     "name": "stdout",
     "output_type": "stream",
     "text": [
      "   Name  students_age  Marks  Square\n",
      "0  John          16.0   45.0     256\n",
      "1  Sara          15.0   67.0     225\n",
      "2   Ali          15.0    0.0     225\n",
      "3  Maya          16.0   72.0     256\n"
     ]
    }
   ],
   "source": [
    "df[\"Square\"]=df[\"students_age\"]**2\n",
    "df[\"students_age\"]=np.floor(df[\"students_age\"])\n",
    "print(df)"
   ]
  },
  {
   "cell_type": "code",
   "execution_count": 39,
   "id": "0a465b5a-7b85-42b1-9492-fc48738b763e",
   "metadata": {},
   "outputs": [
    {
     "name": "stdout",
     "output_type": "stream",
     "text": [
      "0    16.0\n",
      "1    15.0\n",
      "2    15.0\n",
      "3    16.0\n",
      "Name: students_age, dtype: float64\n",
      "Name            John\n",
      "students_age    16.0\n",
      "Marks           45.0\n",
      "Square           256\n",
      "Name: 0, dtype: object\n",
      "   Name  students_age  Marks  Square\n",
      "1  Sara          15.0   67.0     225\n",
      "3  Maya          16.0   72.0     256\n",
      "   Name  students_age  Marks  Square\n",
      "0  John          16.0   45.0     256\n",
      "1  Sara          15.0   67.0     225\n",
      "2   Ali          15.0    0.0     225\n",
      "0    John\n",
      "1    Sara\n",
      "2     Ali\n",
      "3    Maya\n",
      "Name: Name, dtype: object\n",
      "   Name  students_age  Marks  Square\n",
      "0  John          16.0   45.0     256\n",
      "3  Maya          16.0   72.0     256\n",
      "   Name  Marks\n",
      "1  Sara   67.0\n",
      "2   Ali    0.0\n",
      "3  Maya   72.0\n"
     ]
    }
   ],
   "source": [
    "print(df[\"students_age\"])\n",
    "print(df.iloc[0])\n",
    "print(df[df[\"Marks\"]>50])\n",
    "print(df.iloc[0:3])\n",
    "print(df[\"Name\"])\n",
    "print(df[df[\"students_age\"]>15])\n",
    "print(df.iloc[1:4,0:3:2])"
   ]
  },
  {
   "cell_type": "code",
   "execution_count": 64,
   "id": "b81dd132-4e36-4118-afde-b1fec606d25c",
   "metadata": {},
   "outputs": [],
   "source": [
    "import pandas as pd\n",
    "import numpy as np\n",
    "\n",
    "data = {\n",
    "    \"Name\": [\"John\", \"Sara\", \"Ali\", \"Maya\"],\n",
    "    \"Age\": [16, np.nan, 15, 16],\n",
    "    \"Marks\": [45, 67, None, 72]\n",
    "}\n",
    "df = pd.DataFrame(data)\n"
   ]
  },
  {
   "cell_type": "code",
   "execution_count": 62,
   "id": "17a575f3-2f9f-4f9b-bba1-b679fd4bd5b9",
   "metadata": {},
   "outputs": [
    {
     "name": "stdout",
     "output_type": "stream",
     "text": [
      "Name     0\n",
      "Age      1\n",
      "Marks    1\n",
      "dtype: int64\n"
     ]
    }
   ],
   "source": [
    "print(df.isnull().sum())"
   ]
  },
  {
   "cell_type": "code",
   "execution_count": 47,
   "id": "8a6d9291-bd4d-42f8-89c6-cca65db70ec3",
   "metadata": {},
   "outputs": [
    {
     "name": "stdout",
     "output_type": "stream",
     "text": [
      "   Name   Age  Marks\n",
      "0  John  16.0   45.0\n",
      "3  Maya  16.0   72.0\n"
     ]
    }
   ],
   "source": [
    "print(df.dropna())"
   ]
  },
  {
   "cell_type": "code",
   "execution_count": 70,
   "id": "1af50198-57aa-4769-8bab-29a29e2b468e",
   "metadata": {},
   "outputs": [
    {
     "name": "stdout",
     "output_type": "stream",
     "text": [
      "   Name        Age  Marks\n",
      "0  John  16.000000   45.0\n",
      "1  Sara  15.666667   67.0\n",
      "2   Ali  15.000000    0.0\n",
      "3  Maya  16.000000   72.0\n"
     ]
    }
   ],
   "source": [
    "df[\"Age\"]=df[\"Age\"].fillna(df[\"Age\"].mean())\n",
    "df[\"Marks\"]=df[\"Marks\"].fillna(0)\n",
    "print(df)"
   ]
  },
  {
   "cell_type": "code",
   "execution_count": 2,
   "id": "f39b686d-0323-441b-86ec-7f5fa48e1016",
   "metadata": {},
   "outputs": [],
   "source": [
    "datass={\n",
    "    \"Name\":[\"Maqbool\",\"Akash\",\"Naseef\",\"Swalih\",\"Husna\",\"Sahal\",\"Safvan\",]\n",
    "}"
   ]
  },
  {
   "cell_type": "code",
   "execution_count": 40,
   "id": "cd15b5f7-0840-4e3b-a822-6a3cc1531ffe",
   "metadata": {},
   "outputs": [
    {
     "data": {
      "text/html": [
       "<div>\n",
       "<style scoped>\n",
       "    .dataframe tbody tr th:only-of-type {\n",
       "        vertical-align: middle;\n",
       "    }\n",
       "\n",
       "    .dataframe tbody tr th {\n",
       "        vertical-align: top;\n",
       "    }\n",
       "\n",
       "    .dataframe thead th {\n",
       "        text-align: right;\n",
       "    }\n",
       "</style>\n",
       "<table border=\"1\" class=\"dataframe\">\n",
       "  <thead>\n",
       "    <tr style=\"text-align: right;\">\n",
       "      <th></th>\n",
       "      <th>Unnamed: 0</th>\n",
       "      <th>id</th>\n",
       "      <th>age</th>\n",
       "      <th>gender</th>\n",
       "      <th>income</th>\n",
       "      <th>days_on_platform</th>\n",
       "      <th>city</th>\n",
       "      <th>purchases</th>\n",
       "    </tr>\n",
       "  </thead>\n",
       "  <tbody>\n",
       "    <tr>\n",
       "      <th>0</th>\n",
       "      <td>0</td>\n",
       "      <td>0</td>\n",
       "      <td>NaN</td>\n",
       "      <td>Male</td>\n",
       "      <td>126895</td>\n",
       "      <td>14.0</td>\n",
       "      <td>San Francisco</td>\n",
       "      <td>0</td>\n",
       "    </tr>\n",
       "    <tr>\n",
       "      <th>1</th>\n",
       "      <td>1</td>\n",
       "      <td>1</td>\n",
       "      <td>NaN</td>\n",
       "      <td>Male</td>\n",
       "      <td>161474</td>\n",
       "      <td>14.0</td>\n",
       "      <td>Tokyo</td>\n",
       "      <td>0</td>\n",
       "    </tr>\n",
       "    <tr>\n",
       "      <th>2</th>\n",
       "      <td>2</td>\n",
       "      <td>2</td>\n",
       "      <td>24.0</td>\n",
       "      <td>Male</td>\n",
       "      <td>104723</td>\n",
       "      <td>34.0</td>\n",
       "      <td>London</td>\n",
       "      <td>1</td>\n",
       "    </tr>\n",
       "    <tr>\n",
       "      <th>3</th>\n",
       "      <td>3</td>\n",
       "      <td>3</td>\n",
       "      <td>29.0</td>\n",
       "      <td>Male</td>\n",
       "      <td>43791</td>\n",
       "      <td>28.0</td>\n",
       "      <td>London</td>\n",
       "      <td>2</td>\n",
       "    </tr>\n",
       "    <tr>\n",
       "      <th>4</th>\n",
       "      <td>4</td>\n",
       "      <td>4</td>\n",
       "      <td>18.0</td>\n",
       "      <td>Female</td>\n",
       "      <td>132181</td>\n",
       "      <td>26.0</td>\n",
       "      <td>London</td>\n",
       "      <td>2</td>\n",
       "    </tr>\n",
       "    <tr>\n",
       "      <th>...</th>\n",
       "      <td>...</td>\n",
       "      <td>...</td>\n",
       "      <td>...</td>\n",
       "      <td>...</td>\n",
       "      <td>...</td>\n",
       "      <td>...</td>\n",
       "      <td>...</td>\n",
       "      <td>...</td>\n",
       "    </tr>\n",
       "    <tr>\n",
       "      <th>4995</th>\n",
       "      <td>4995</td>\n",
       "      <td>4995</td>\n",
       "      <td>NaN</td>\n",
       "      <td>Female</td>\n",
       "      <td>212261</td>\n",
       "      <td>28.0</td>\n",
       "      <td>San Francisco</td>\n",
       "      <td>1</td>\n",
       "    </tr>\n",
       "    <tr>\n",
       "      <th>4996</th>\n",
       "      <td>4996</td>\n",
       "      <td>4996</td>\n",
       "      <td>NaN</td>\n",
       "      <td>Male</td>\n",
       "      <td>70228</td>\n",
       "      <td>12.0</td>\n",
       "      <td>San Francisco</td>\n",
       "      <td>0</td>\n",
       "    </tr>\n",
       "    <tr>\n",
       "      <th>4997</th>\n",
       "      <td>4997</td>\n",
       "      <td>4997</td>\n",
       "      <td>NaN</td>\n",
       "      <td>Male</td>\n",
       "      <td>64995</td>\n",
       "      <td>14.0</td>\n",
       "      <td>New York City</td>\n",
       "      <td>0</td>\n",
       "    </tr>\n",
       "    <tr>\n",
       "      <th>4998</th>\n",
       "      <td>4998</td>\n",
       "      <td>4998</td>\n",
       "      <td>NaN</td>\n",
       "      <td>Male</td>\n",
       "      <td>56144</td>\n",
       "      <td>4.0</td>\n",
       "      <td>New York City</td>\n",
       "      <td>2</td>\n",
       "    </tr>\n",
       "    <tr>\n",
       "      <th>4999</th>\n",
       "      <td>4999</td>\n",
       "      <td>4999</td>\n",
       "      <td>NaN</td>\n",
       "      <td>Female</td>\n",
       "      <td>110977</td>\n",
       "      <td>29.0</td>\n",
       "      <td>London</td>\n",
       "      <td>0</td>\n",
       "    </tr>\n",
       "  </tbody>\n",
       "</table>\n",
       "<p>5000 rows × 8 columns</p>\n",
       "</div>"
      ],
      "text/plain": [
       "      Unnamed: 0    id   age  gender  income  days_on_platform           city  \\\n",
       "0              0     0   NaN    Male  126895              14.0  San Francisco   \n",
       "1              1     1   NaN    Male  161474              14.0          Tokyo   \n",
       "2              2     2  24.0    Male  104723              34.0         London   \n",
       "3              3     3  29.0    Male   43791              28.0         London   \n",
       "4              4     4  18.0  Female  132181              26.0         London   \n",
       "...          ...   ...   ...     ...     ...               ...            ...   \n",
       "4995        4995  4995   NaN  Female  212261              28.0  San Francisco   \n",
       "4996        4996  4996   NaN    Male   70228              12.0  San Francisco   \n",
       "4997        4997  4997   NaN    Male   64995              14.0  New York City   \n",
       "4998        4998  4998   NaN    Male   56144               4.0  New York City   \n",
       "4999        4999  4999   NaN  Female  110977              29.0         London   \n",
       "\n",
       "      purchases  \n",
       "0             0  \n",
       "1             0  \n",
       "2             1  \n",
       "3             2  \n",
       "4             2  \n",
       "...         ...  \n",
       "4995          1  \n",
       "4996          0  \n",
       "4997          0  \n",
       "4998          2  \n",
       "4999          0  \n",
       "\n",
       "[5000 rows x 8 columns]"
      ]
     },
     "execution_count": 40,
     "metadata": {},
     "output_type": "execute_result"
    }
   ],
   "source": [
    "df=pd.read_csv(\"clv_data.csv\")\n",
    "df"
   ]
  },
  {
   "cell_type": "code",
   "execution_count": 41,
   "id": "330bc858-8bc2-4489-a20b-1236db213665",
   "metadata": {},
   "outputs": [
    {
     "name": "stdout",
     "output_type": "stream",
     "text": [
      "<class 'pandas.core.frame.DataFrame'>\n",
      "RangeIndex: 5000 entries, 0 to 4999\n",
      "Data columns (total 8 columns):\n",
      " #   Column            Non-Null Count  Dtype  \n",
      "---  ------            --------------  -----  \n",
      " 0   Unnamed: 0        5000 non-null   int64  \n",
      " 1   id                5000 non-null   int64  \n",
      " 2   age               2554 non-null   float64\n",
      " 3   gender            5000 non-null   object \n",
      " 4   income            5000 non-null   int64  \n",
      " 5   days_on_platform  4859 non-null   float64\n",
      " 6   city              5000 non-null   object \n",
      " 7   purchases         5000 non-null   int64  \n",
      "dtypes: float64(2), int64(4), object(2)\n",
      "memory usage: 312.6+ KB\n"
     ]
    }
   ],
   "source": [
    "df.info()"
   ]
  },
  {
   "cell_type": "code",
   "execution_count": 42,
   "id": "1653c98e-654a-4fc5-8229-af98b7c9c571",
   "metadata": {},
   "outputs": [
    {
     "data": {
      "text/plain": [
       "Unnamed: 0             0\n",
       "id                     0\n",
       "age                 2446\n",
       "gender                 0\n",
       "income                 0\n",
       "days_on_platform     141\n",
       "city                   0\n",
       "purchases              0\n",
       "dtype: int64"
      ]
     },
     "execution_count": 42,
     "metadata": {},
     "output_type": "execute_result"
    }
   ],
   "source": [
    "df.isnull().sum()"
   ]
  },
  {
   "cell_type": "code",
   "execution_count": 55,
   "id": "7519b2eb-27e5-48db-80eb-77153c94b590",
   "metadata": {},
   "outputs": [
    {
     "data": {
      "text/html": [
       "<div>\n",
       "<style scoped>\n",
       "    .dataframe tbody tr th:only-of-type {\n",
       "        vertical-align: middle;\n",
       "    }\n",
       "\n",
       "    .dataframe tbody tr th {\n",
       "        vertical-align: top;\n",
       "    }\n",
       "\n",
       "    .dataframe thead th {\n",
       "        text-align: right;\n",
       "    }\n",
       "</style>\n",
       "<table border=\"1\" class=\"dataframe\">\n",
       "  <thead>\n",
       "    <tr style=\"text-align: right;\">\n",
       "      <th></th>\n",
       "      <th>Unnamed: 0</th>\n",
       "      <th>id</th>\n",
       "      <th>age</th>\n",
       "      <th>gender</th>\n",
       "      <th>income</th>\n",
       "      <th>days_on_platform</th>\n",
       "      <th>city</th>\n",
       "      <th>purchases</th>\n",
       "    </tr>\n",
       "  </thead>\n",
       "  <tbody>\n",
       "  </tbody>\n",
       "</table>\n",
       "</div>"
      ],
      "text/plain": [
       "Empty DataFrame\n",
       "Columns: [Unnamed: 0, id, age, gender, income, days_on_platform, city, purchases]\n",
       "Index: []"
      ]
     },
     "execution_count": 55,
     "metadata": {},
     "output_type": "execute_result"
    }
   ],
   "source": [
    "df[df.isnull().any(axis=1)]"
   ]
  },
  {
   "cell_type": "code",
   "execution_count": 53,
   "id": "8659de2e-54be-4a02-ae7f-30100415b640",
   "metadata": {},
   "outputs": [
    {
     "data": {
      "text/html": [
       "<div>\n",
       "<style scoped>\n",
       "    .dataframe tbody tr th:only-of-type {\n",
       "        vertical-align: middle;\n",
       "    }\n",
       "\n",
       "    .dataframe tbody tr th {\n",
       "        vertical-align: top;\n",
       "    }\n",
       "\n",
       "    .dataframe thead th {\n",
       "        text-align: right;\n",
       "    }\n",
       "</style>\n",
       "<table border=\"1\" class=\"dataframe\">\n",
       "  <thead>\n",
       "    <tr style=\"text-align: right;\">\n",
       "      <th></th>\n",
       "      <th>Unnamed: 0</th>\n",
       "      <th>id</th>\n",
       "      <th>age</th>\n",
       "      <th>gender</th>\n",
       "      <th>income</th>\n",
       "      <th>days_on_platform</th>\n",
       "      <th>city</th>\n",
       "      <th>purchases</th>\n",
       "    </tr>\n",
       "  </thead>\n",
       "  <tbody>\n",
       "    <tr>\n",
       "      <th>2</th>\n",
       "      <td>2</td>\n",
       "      <td>2</td>\n",
       "      <td>24.0</td>\n",
       "      <td>Male</td>\n",
       "      <td>104723</td>\n",
       "      <td>34.0</td>\n",
       "      <td>London</td>\n",
       "      <td>1</td>\n",
       "    </tr>\n",
       "    <tr>\n",
       "      <th>3</th>\n",
       "      <td>3</td>\n",
       "      <td>3</td>\n",
       "      <td>29.0</td>\n",
       "      <td>Male</td>\n",
       "      <td>43791</td>\n",
       "      <td>28.0</td>\n",
       "      <td>London</td>\n",
       "      <td>2</td>\n",
       "    </tr>\n",
       "    <tr>\n",
       "      <th>4</th>\n",
       "      <td>4</td>\n",
       "      <td>4</td>\n",
       "      <td>18.0</td>\n",
       "      <td>Female</td>\n",
       "      <td>132181</td>\n",
       "      <td>26.0</td>\n",
       "      <td>London</td>\n",
       "      <td>2</td>\n",
       "    </tr>\n",
       "    <tr>\n",
       "      <th>5</th>\n",
       "      <td>5</td>\n",
       "      <td>5</td>\n",
       "      <td>23.0</td>\n",
       "      <td>Male</td>\n",
       "      <td>12315</td>\n",
       "      <td>14.0</td>\n",
       "      <td>New York City</td>\n",
       "      <td>0</td>\n",
       "    </tr>\n",
       "    <tr>\n",
       "      <th>8</th>\n",
       "      <td>8</td>\n",
       "      <td>8</td>\n",
       "      <td>46.0</td>\n",
       "      <td>Male</td>\n",
       "      <td>129157</td>\n",
       "      <td>23.0</td>\n",
       "      <td>New York City</td>\n",
       "      <td>0</td>\n",
       "    </tr>\n",
       "    <tr>\n",
       "      <th>...</th>\n",
       "      <td>...</td>\n",
       "      <td>...</td>\n",
       "      <td>...</td>\n",
       "      <td>...</td>\n",
       "      <td>...</td>\n",
       "      <td>...</td>\n",
       "      <td>...</td>\n",
       "      <td>...</td>\n",
       "    </tr>\n",
       "    <tr>\n",
       "      <th>4986</th>\n",
       "      <td>4986</td>\n",
       "      <td>4986</td>\n",
       "      <td>23.0</td>\n",
       "      <td>Male</td>\n",
       "      <td>75425</td>\n",
       "      <td>6.0</td>\n",
       "      <td>London</td>\n",
       "      <td>1</td>\n",
       "    </tr>\n",
       "    <tr>\n",
       "      <th>4989</th>\n",
       "      <td>4989</td>\n",
       "      <td>4989</td>\n",
       "      <td>47.0</td>\n",
       "      <td>Female</td>\n",
       "      <td>84987</td>\n",
       "      <td>30.0</td>\n",
       "      <td>Tokyo</td>\n",
       "      <td>0</td>\n",
       "    </tr>\n",
       "    <tr>\n",
       "      <th>4990</th>\n",
       "      <td>4990</td>\n",
       "      <td>4990</td>\n",
       "      <td>33.0</td>\n",
       "      <td>Male</td>\n",
       "      <td>3020</td>\n",
       "      <td>89.0</td>\n",
       "      <td>New York City</td>\n",
       "      <td>0</td>\n",
       "    </tr>\n",
       "    <tr>\n",
       "      <th>4991</th>\n",
       "      <td>4991</td>\n",
       "      <td>4991</td>\n",
       "      <td>36.0</td>\n",
       "      <td>Female</td>\n",
       "      <td>26173</td>\n",
       "      <td>34.0</td>\n",
       "      <td>Tokyo</td>\n",
       "      <td>0</td>\n",
       "    </tr>\n",
       "    <tr>\n",
       "      <th>4992</th>\n",
       "      <td>4992</td>\n",
       "      <td>4992</td>\n",
       "      <td>26.0</td>\n",
       "      <td>Male</td>\n",
       "      <td>88858</td>\n",
       "      <td>14.0</td>\n",
       "      <td>Miami</td>\n",
       "      <td>3</td>\n",
       "    </tr>\n",
       "  </tbody>\n",
       "</table>\n",
       "<p>2476 rows × 8 columns</p>\n",
       "</div>"
      ],
      "text/plain": [
       "      Unnamed: 0    id   age  gender  income  days_on_platform           city  \\\n",
       "2              2     2  24.0    Male  104723              34.0         London   \n",
       "3              3     3  29.0    Male   43791              28.0         London   \n",
       "4              4     4  18.0  Female  132181              26.0         London   \n",
       "5              5     5  23.0    Male   12315              14.0  New York City   \n",
       "8              8     8  46.0    Male  129157              23.0  New York City   \n",
       "...          ...   ...   ...     ...     ...               ...            ...   \n",
       "4986        4986  4986  23.0    Male   75425               6.0         London   \n",
       "4989        4989  4989  47.0  Female   84987              30.0          Tokyo   \n",
       "4990        4990  4990  33.0    Male    3020              89.0  New York City   \n",
       "4991        4991  4991  36.0  Female   26173              34.0          Tokyo   \n",
       "4992        4992  4992  26.0    Male   88858              14.0          Miami   \n",
       "\n",
       "      purchases  \n",
       "2             1  \n",
       "3             2  \n",
       "4             2  \n",
       "5             0  \n",
       "8             0  \n",
       "...         ...  \n",
       "4986          1  \n",
       "4989          0  \n",
       "4990          0  \n",
       "4991          0  \n",
       "4992          3  \n",
       "\n",
       "[2476 rows x 8 columns]"
      ]
     },
     "execution_count": 53,
     "metadata": {},
     "output_type": "execute_result"
    }
   ],
   "source": [
    "\n",
    "df"
   ]
  },
  {
   "cell_type": "code",
   "execution_count": 52,
   "id": "baf99f89-5070-49b4-b341-0cdc36178570",
   "metadata": {},
   "outputs": [],
   "source": [
    "# df[\"age\"]=df[\"age\"].fillna(df[\"age\"].mean())\n",
    "# df[\"days_on_platform\"]=df[\"days_on_platform\"].fillna(df[\"days_on_platform\"].mean())\n",
    "# df"
   ]
  },
  {
   "cell_type": "code",
   "execution_count": 44,
   "id": "374e9bd5-7bdf-4a6a-a998-510ac0caa93b",
   "metadata": {},
   "outputs": [
    {
     "data": {
      "text/plain": [
       "Unnamed: 0             0\n",
       "id                     0\n",
       "age                 2446\n",
       "gender                 0\n",
       "income                 0\n",
       "days_on_platform     141\n",
       "city                   0\n",
       "purchases              0\n",
       "dtype: int64"
      ]
     },
     "execution_count": 44,
     "metadata": {},
     "output_type": "execute_result"
    }
   ],
   "source": [
    "df.isnull().sum()"
   ]
  },
  {
   "cell_type": "code",
   "execution_count": null,
   "id": "ac2c4916-8020-4f4e-b3ac-69f82bc03001",
   "metadata": {},
   "outputs": [],
   "source": []
  }
 ],
 "metadata": {
  "kernelspec": {
   "display_name": "Python 3 (ipykernel)",
   "language": "python",
   "name": "python3"
  },
  "language_info": {
   "codemirror_mode": {
    "name": "ipython",
    "version": 3
   },
   "file_extension": ".py",
   "mimetype": "text/x-python",
   "name": "python",
   "nbconvert_exporter": "python",
   "pygments_lexer": "ipython3",
   "version": "3.10.18"
  }
 },
 "nbformat": 4,
 "nbformat_minor": 5
}
