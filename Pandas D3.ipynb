{
 "cells": [
  {
   "cell_type": "markdown",
   "id": "9a1cf9dd-4cc2-44f4-9eeb-60c58ac6c4eb",
   "metadata": {},
   "source": [
    "# Grouping"
   ]
  },
  {
   "cell_type": "code",
   "execution_count": 4,
   "id": "5b8355fd-466e-479f-bbce-b425df5a56bd",
   "metadata": {},
   "outputs": [
    {
     "name": "stdout",
     "output_type": "stream",
     "text": [
      "Department\n",
      "Finance     82000\n",
      "HR          65000\n",
      "IT         105000\n",
      "Name: Salary, dtype: int64\n"
     ]
    }
   ],
   "source": [
    "import pandas as pd\n",
    "\n",
    "data = {\n",
    "    \"Department\": [\"HR\", \"HR\", \"IT\", \"IT\", \"Finance\", \"Finance\"],\n",
    "    \"Employee\": [\"A\", \"B\", \"C\", \"D\", \"E\", \"F\"],\n",
    "    \"Salary\": [30000, 35000, 50000, 55000, 40000, 42000]\n",
    "}\n",
    "\n",
    "a=pd.DataFrame(data)\n",
    "b=a.groupby(\"Department\")[\"Salary\"].sum()\n",
    "print(b)"
   ]
  },
  {
   "cell_type": "markdown",
   "id": "62ab913a-a44e-4be6-80ed-be96892d9ee3",
   "metadata": {},
   "source": [
    "## Mult Agg"
   ]
  },
  {
   "cell_type": "code",
   "execution_count": 8,
   "id": "3b367e72-f156-4aad-8d64-d9b73169357a",
   "metadata": {},
   "outputs": [
    {
     "name": "stdout",
     "output_type": "stream",
     "text": [
      "               sum    max    min  count\n",
      "Department                             \n",
      "Finance      82000  42000  40000      2\n",
      "HR           65000  35000  30000      2\n",
      "IT          105000  55000  50000      2\n"
     ]
    }
   ],
   "source": [
    "print(a.groupby(\"Department\")[\"Salary\"].agg([\"sum\",\"max\",\"min\",\"count\"]))"
   ]
  },
  {
   "cell_type": "markdown",
   "id": "7f1eb047-6ac9-4141-817e-d46e83e78b5e",
   "metadata": {},
   "source": [
    "## By Mult columns"
   ]
  },
  {
   "cell_type": "code",
   "execution_count": 5,
   "id": "46f3d465-8b8d-492c-a77e-24b8e61be099",
   "metadata": {},
   "outputs": [
    {
     "name": "stdout",
     "output_type": "stream",
     "text": [
      "                    mean    sum\n",
      "Department Year                \n",
      "Finance    2020  40000.0  40000\n",
      "           2021  42000.0  42000\n",
      "HR         2020  30000.0  30000\n",
      "           2021  35000.0  35000\n",
      "IT         2020  50000.0  50000\n",
      "           2021  55000.0  55000\n"
     ]
    }
   ],
   "source": [
    "\n",
    "data = {\n",
    "    \"Department\": [\"HR\", \"HR\", \"IT\", \"IT\", \"Finance\", \"Finance\"],\n",
    "    \"Year\": [2020, 2021, 2020, 2021, 2020, 2021],\n",
    "    \"Salary\": [30000, 35000, 50000, 55000, 40000, 42000]\n",
    "}\n",
    "\n",
    "df = pd.DataFrame(data)\n",
    "a=df.groupby([\"Department\",\"Year\"])[\"Salary\"].agg([\"mean\",\"sum\"])\n",
    "print(a)"
   ]
  },
  {
   "cell_type": "markdown",
   "id": "cad599d0-1edd-4b30-8dbe-9440a9443f1a",
   "metadata": {},
   "source": [
    "## By lambda function "
   ]
  },
  {
   "cell_type": "code",
   "execution_count": 6,
   "id": "f4e8b18d-b153-4397-a907-81b2effc268e",
   "metadata": {},
   "outputs": [
    {
     "name": "stdout",
     "output_type": "stream",
     "text": [
      "Department  Year\n",
      "Finance     2020    0.0\n",
      "            2021    0.0\n",
      "HR          2020    0.0\n",
      "            2021    0.0\n",
      "IT          2020    0.0\n",
      "            2021    0.0\n",
      "Name: Salary, dtype: float64\n"
     ]
    }
   ],
   "source": [
    "b=df.groupby([\"Department\",\"Year\"])[\"Salary\"].agg(lambda x:x.mean()-x.min())\n",
    "print(b)"
   ]
  },
  {
   "cell_type": "code",
   "execution_count": 2,
   "id": "da960b81-5417-4352-9814-ff6620e80e0e",
   "metadata": {},
   "outputs": [
    {
     "name": "stdout",
     "output_type": "stream",
     "text": [
      "   ID   Name  Salary\n",
      "0   3    Sam   50000\n",
      "1   4  Diana   60000\n"
     ]
    }
   ],
   "source": [
    "import pandas as pd\n",
    "\n",
    "df1 = pd.DataFrame({\n",
    "    \"ID\": [1, 2, 3, 4],\n",
    "    \"Name\": [\"John\", \"Anna\", \"Sam\", \"Diana\"]\n",
    "})\n",
    "\n",
    "df2 = pd.DataFrame({\n",
    "    \"ID\": [3, 4, 5, 6],\n",
    "    \"Salary\": [50000, 60000, 55000, 65000]\n",
    "})\n",
    "merg=pd.merge(df1,df2,on=\"ID\")\n",
    "print(merg)"
   ]
  },
  {
   "cell_type": "code",
   "execution_count": 3,
   "id": "fb9d6f48-7933-4adc-86df-a43ba8bc9dcc",
   "metadata": {},
   "outputs": [
    {
     "name": "stdout",
     "output_type": "stream",
     "text": [
      "   ID   Name   Salary\n",
      "0   1   John      NaN\n",
      "1   2   Anna      NaN\n",
      "2   3    Sam  50000.0\n",
      "3   4  Diana  60000.0\n"
     ]
    }
   ],
   "source": [
    "merg=pd.merge(df1,df2,how=\"left\")\n",
    "print(merg)"
   ]
  },
  {
   "cell_type": "code",
   "execution_count": 4,
   "id": "a761a298-a838-4e75-afb3-ae3a382046bb",
   "metadata": {},
   "outputs": [
    {
     "name": "stdout",
     "output_type": "stream",
     "text": [
      "   ID   Name  Salary\n",
      "0   3    Sam   50000\n",
      "1   4  Diana   60000\n",
      "2   5    NaN   55000\n",
      "3   6    NaN   65000\n"
     ]
    }
   ],
   "source": [
    "merg=pd.merge(df1,df2,how=\"right\")\n",
    "print(merg)"
   ]
  },
  {
   "cell_type": "code",
   "execution_count": 5,
   "id": "c56f2629-982c-4d2d-a885-5e7447c4dd8c",
   "metadata": {},
   "outputs": [
    {
     "name": "stdout",
     "output_type": "stream",
     "text": [
      "   ID   Name   Salary\n",
      "0   1   John      NaN\n",
      "1   2   Anna      NaN\n",
      "2   3    Sam  50000.0\n",
      "3   4  Diana  60000.0\n",
      "4   5    NaN  55000.0\n",
      "5   6    NaN  65000.0\n"
     ]
    }
   ],
   "source": [
    "merg=pd.merge(df1,df2,how=\"outer\")\n",
    "print(merg)"
   ]
  },
  {
   "cell_type": "code",
   "execution_count": 6,
   "id": "15081a32-5272-4d7f-8d7b-cebcc78d0f46",
   "metadata": {},
   "outputs": [
    {
     "name": "stdout",
     "output_type": "stream",
     "text": [
      "    Name  Salary\n",
      "3    Sam   50000\n",
      "4  Diana   60000\n"
     ]
    }
   ],
   "source": [
    "df1 = pd.DataFrame({\n",
    "    \"Name\": [\"John\", \"Anna\", \"Sam\", \"Diana\"]\n",
    "}, index=[1, 2, 3, 4])\n",
    "\n",
    "df2 = pd.DataFrame({\n",
    "    \"Salary\": [50000, 60000, 55000, 65000]\n",
    "}, index=[3, 4, 5, 6])\n",
    "\n",
    "result = df1.join(df2, how=\"inner\")\n",
    "print(result)"
   ]
  },
  {
   "cell_type": "code",
   "execution_count": 13,
   "id": "9686e75f-5443-4997-b61c-f69bf709ed1b",
   "metadata": {},
   "outputs": [
    {
     "name": "stdout",
     "output_type": "stream",
     "text": [
      "   StudentID   Name Class\n",
      "0        101   John   10A\n",
      "1        102   Anna   10B\n",
      "2        103    Sam   10A\n",
      "3        104  Diana   10B\n",
      "   StudentID  Math  Science\n",
      "0        102    85       92\n",
      "1        103    90       85\n",
      "2        104    78       80\n",
      "3        105    88       91\n",
      "   StudentID   Name Class  Math  Science\n",
      "0        102   Anna   10B    85       92\n",
      "1        103    Sam   10A    90       85\n",
      "2        104  Diana   10B    78       80\n"
     ]
    }
   ],
   "source": [
    "import pandas as pd\n",
    "\n",
    "students = pd.DataFrame({\n",
    "    \"StudentID\": [101, 102, 103, 104],\n",
    "    \"Name\": [\"John\", \"Anna\", \"Sam\", \"Diana\"],\n",
    "    \"Class\": [\"10A\", \"10B\", \"10A\", \"10B\"]\n",
    "})\n",
    "\n",
    "print(students)\n",
    "scores = pd.DataFrame({\n",
    "    \"StudentID\": [102, 103, 104, 105],\n",
    "    \"Math\": [85, 90, 78, 88],\n",
    "    \"Science\": [92, 85, 80, 91]\n",
    "})\n",
    "\n",
    "print(scores)\n",
    "mer=pd.merge(students,scores,on=\"StudentID\",how=\"inner\")\n",
    "print(mer)"
   ]
  },
  {
   "cell_type": "code",
   "execution_count": 14,
   "id": "a31c15e3-62ea-461a-b931-4b3c05dc9e2e",
   "metadata": {},
   "outputs": [
    {
     "name": "stdout",
     "output_type": "stream",
     "text": [
      "  Department Employee  Year  Salary\n",
      "0         HR     John  2020   30000\n",
      "1         HR     Anna  2020   35000\n",
      "2         IT      Sam  2020   50000\n",
      "3         IT    Diana  2021   55000\n",
      "4    Finance     Mike  2021   40000\n",
      "5    Finance     Sara  2020   42000\n",
      "6         IT     Alex  2021   60000\n",
      "7         HR      Tom  2021   32000 \n",
      "\n",
      "Year           2020     2021\n",
      "Department                  \n",
      "Finance     42000.0  40000.0\n",
      "HR          32500.0  32000.0\n",
      "IT          50000.0  57500.0\n"
     ]
    }
   ],
   "source": [
    "import pandas as pd\n",
    "\n",
    "data = {\n",
    "    \"Department\": [\"HR\", \"HR\", \"IT\", \"IT\", \"Finance\", \"Finance\", \"IT\", \"HR\"],\n",
    "    \"Employee\": [\"John\", \"Anna\", \"Sam\", \"Diana\", \"Mike\", \"Sara\", \"Alex\", \"Tom\"],\n",
    "    \"Year\": [2020, 2020, 2020, 2021, 2021, 2020, 2021, 2021],\n",
    "    \"Salary\": [30000, 35000, 50000, 55000, 40000, 42000, 60000, 32000]\n",
    "}\n",
    "\n",
    "df = pd.DataFrame(data)\n",
    "print(df,\"\\n\")\n",
    "pivot = pd.pivot_table(df, values=\"Salary\", index=\"Department\", columns=\"Year\", aggfunc=\"mean\", fill_value=0)\n",
    "print(pivot)\n"
   ]
  },
  {
   "cell_type": "code",
   "execution_count": 16,
   "id": "09dfaa3c-2101-45d2-8cc8-3ae2f5341a52",
   "metadata": {},
   "outputs": [
    {
     "name": "stdout",
     "output_type": "stream",
     "text": [
      "   Names Subjects  Scores\n",
      "0   Amit     Math      88\n",
      "1   Riya  Science      92\n",
      "2  Karan  English      79\n"
     ]
    }
   ],
   "source": [
    "data={\n",
    "    \"Names\": [\"Amit\", \"Riya\", \"Karan\"],\n",
    "\n",
    "\"Subjects\": [\"Math\", \"Science\", \"English\"],\n",
    "\n",
    "\"Scores\": [88, 92, 79]\n",
    "}\n",
    "df=pd.DataFrame(data)\n",
    "print(df)"
   ]
  },
  {
   "cell_type": "code",
   "execution_count": 18,
   "id": "c3491d1f-06f9-4b1b-939e-9e0220bbc16d",
   "metadata": {},
   "outputs": [
    {
     "name": "stdout",
     "output_type": "stream",
     "text": [
      "0    John\n",
      "1    Sara\n",
      "2     Ali\n",
      "3    Maya\n",
      "Name: Name, dtype: object \n",
      "\n",
      "   Name  Marks\n",
      "0  John     45\n",
      "1  Sara     67\n",
      "2   Ali     89\n",
      "3  Maya     72\n"
     ]
    }
   ],
   "source": [
    "import pandas as pd\n",
    "\n",
    "data = {\n",
    "    \"Name\": [\"John\", \"Sara\", \"Ali\", \"Maya\"],\n",
    "    \"Age\": [16, 17, 15, 16],\n",
    "    \"Marks\": [45, 67, 89, 72]\n",
    "}\n",
    "df = pd.DataFrame(data)\n",
    "print(df[\"Name\"],\"\\n\")\n",
    "print(df[[\"Name\",\"Marks\"]])"
   ]
  },
  {
   "cell_type": "code",
   "execution_count": null,
   "id": "869937a7-5fd9-4ce4-a1fd-e7be86274e84",
   "metadata": {},
   "outputs": [],
   "source": []
  }
 ],
 "metadata": {
  "kernelspec": {
   "display_name": "Python 3 (ipykernel)",
   "language": "python",
   "name": "python3"
  },
  "language_info": {
   "codemirror_mode": {
    "name": "ipython",
    "version": 3
   },
   "file_extension": ".py",
   "mimetype": "text/x-python",
   "name": "python",
   "nbconvert_exporter": "python",
   "pygments_lexer": "ipython3",
   "version": "3.10.18"
  }
 },
 "nbformat": 4,
 "nbformat_minor": 5
}
